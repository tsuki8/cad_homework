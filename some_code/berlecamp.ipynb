{
 "cells": [
  {
   "cell_type": "code",
   "execution_count": 1,
   "metadata": {},
   "outputs": [
    {
     "name": "stdout",
     "output_type": "stream",
     "text": [
      "Factors: (x + 1)*(x**2 + 5*x + 3)*(x**3 + 2*x**2 + 3*x + 4)\n"
     ]
    }
   ],
   "source": [
    "from sympy import symbols, factor, GF\n",
    "\n",
    "# 定义变量\n",
    "x = symbols('x')\n",
    "\n",
    "# 定义有限域上的多项式\n",
    "f = x**6 - 3 * x**5 + x**4 - 3 * x**3 - x**2 - 3 * x + 1\n",
    "\n",
    "# 在 GF(11) 上因式分解\n",
    "factors = factor(f, modulus=11)\n",
    "\n",
    "print(\"Factors:\", factors)\n"
   ]
  },
  {
   "cell_type": "code",
   "execution_count": 27,
   "metadata": {},
   "outputs": [
    {
     "name": "stdout",
     "output_type": "stream",
     "text": [
      "x**5 + x**3 + x**2 + x + 1\n"
     ]
    }
   ],
   "source": [
    "g = x**5 + x**3 - x**2 +  x - 1\n",
    "\n",
    "factors = factor(g, modulus=2)\n",
    "print(factors)"
   ]
  },
  {
   "cell_type": "code",
   "execution_count": 29,
   "metadata": {},
   "outputs": [
    {
     "name": "stdout",
     "output_type": "stream",
     "text": [
      "x**4 + 2*x**3 + x**2 - 1\n"
     ]
    }
   ],
   "source": [
    "from sympy import expand\n",
    "f = x**2 + x + 1\n",
    "g = x**2 + x - 1\n",
    "\n",
    "a = expand(f*g)\n",
    "print(a)\n"
   ]
  },
  {
   "cell_type": "code",
   "execution_count": 12,
   "metadata": {},
   "outputs": [
    {
     "name": "stdout",
     "output_type": "stream",
     "text": [
      "Berlekamp Matrix (Q):\n",
      "Matrix([[1, 0, 0, 0, 0, 0], [3, 5, 8, 8, 6, 5], [3, 6, 6, 1, 10, 0], [9, 4, 10, 3, 7, 9], [7, 8, 10, 0, 0, 8], [8, 10, 7, 8, 10, 8]])\n",
      "\n",
      "Kernel Basis (Basis of Null Space):\n",
      "Matrix([[-70/71], [65/284], [-37/142], [-25/71], [23/71], [1]])\n",
      "\n",
      "The polynomial is irreducible in GF( 11 )\n",
      "\n",
      "Factors of the polynomial: [Poly(x**6 - 3*x**5 + x**4 - 3*x**3 - x**2 - 3*x + 1, x, domain='ZZ')]\n"
     ]
    }
   ],
   "source": [
    "from sympy import symbols, Matrix, Poly, gcd, div, degree\n",
    "from sympy.abc import x\n",
    "\n",
    "def berlekamp_algorithm(f, p):\n",
    "    # 将多项式定义在模 p 的有限域上\n",
    "    f = Poly(f, x).set_domain('ZZ')  # 使用整数域，然后手动模 p 运算\n",
    "    n = degree(f)  # 多项式的次数\n",
    "\n",
    "    # 构造Berlekamp矩阵\n",
    "    Q_matrix = Matrix(n, n, lambda i, j: Poly(x**(p * i) % f, x).set_domain('ZZ').coeff_monomial(x**j) % p)\n",
    "\n",
    "    # 打印Berlekamp矩阵\n",
    "    print(\"Berlekamp Matrix (Q):\")\n",
    "    print(Q_matrix)\n",
    "\n",
    "    # 计算 Q - I 矩阵\n",
    "    Q_matrix -= Matrix.eye(n)\n",
    "\n",
    "    # 计算 Q - I 的核，即基础解系\n",
    "    kernel_basis = Q_matrix.nullspace()\n",
    "    print(\"\\nKernel Basis (Basis of Null Space):\")\n",
    "    for basis_vector in kernel_basis:\n",
    "        print(basis_vector)\n",
    "\n",
    "    # 如果核只有一个解，说明 f 是不可约的\n",
    "    if len(kernel_basis) <= 1:\n",
    "        print(\"\\nThe polynomial is irreducible in GF(\", p, \")\")\n",
    "        return [f]\n",
    "\n",
    "    # 否则，使用核中的解分解多项式\n",
    "    factors = []\n",
    "    for basis_vector in kernel_basis:\n",
    "        # 构造对应的多项式 h\n",
    "        h = sum((basis_vector[i] % p) * x**i for i in range(n))\n",
    "        h = Poly(h, x).set_domain('ZZ')\n",
    "\n",
    "        # 计算 h 和 f 的最大公约数\n",
    "        g = gcd(f, h).as_expr()\n",
    "\n",
    "        # 如果得到非平凡因子，添加到因子列表中\n",
    "        if degree(g) > 0 and degree(g) < degree(f):\n",
    "            factors.append(g)\n",
    "            f = div(f, g, domain='QQ')[0]  # 更新 f 为 f 除以 g 的商\n",
    "\n",
    "    # 最后的因子\n",
    "    factors.append(f.as_expr())\n",
    "    return factors\n",
    "\n",
    "# 示例多项式：分解 x^6 + x^3 + 1 在GF(2)上\n",
    "f = x**6 - 3 * x**5 + x**4 - 3 * x**3 - x**2 - 3 * x + 1\n",
    "p = 11  # 有限域 GF(2)\n",
    "\n",
    "# 调用 Berlekamp 算法\n",
    "factors = berlekamp_algorithm(f, p)\n",
    "print(\"\\nFactors of the polynomial:\", factors)\n"
   ]
  },
  {
   "cell_type": "code",
   "execution_count": 20,
   "metadata": {},
   "outputs": [
    {
     "name": "stdout",
     "output_type": "stream",
     "text": [
      "6x6 Matrix:\n",
      "Matrix([[1, 0, 0, 0, 0, 0], [3, 5, -3, -3, -5, 5], [3, -5, -5, 1, -1, 0], [-2, 4, -1, 3, -4, -2], [-4, -3, -1, 0, 0, -3], [-3, -1, -4, -3, -1, -3]])\n"
     ]
    }
   ],
   "source": [
    "from sympy import symbols, Matrix\n",
    "\n",
    "# 构造6x6矩阵\n",
    "Q = Matrix([\n",
    "    [1, 0, 0, 0, 0, 0],\n",
    "    [3, 5, -3, -3, -5, 5],\n",
    "    [3, -5, -5, 1, -1, 0],\n",
    "    [-2, 4,-1,3,-4, -2],\n",
    "    [-4, -3, -1, 0, 0, -3],\n",
    "    [-3, -1, -4, -3, -1, -3]\n",
    "])\n",
    "\n",
    "M = Matrix([\n",
    "    [1, 0, 0, 0, 0, 0],\n",
    "    [3, 5, -3, -3, -5, 5],\n",
    "    [3, -5, -5, 1, -1, 0],\n",
    "    [-2, -1,-1,3, -5, 0],\n",
    "    [-4, -3, -1, 0, 0, -3],\n",
    "    [-3, -1, -4, -3, -1, -3]\n",
    "])\n",
    "# 打印矩阵\n",
    "print(\"6x6 Matrix:\")\n",
    "print(Q)\n"
   ]
  },
  {
   "cell_type": "code",
   "execution_count": 21,
   "metadata": {},
   "outputs": [
    {
     "name": "stdout",
     "output_type": "stream",
     "text": [
      "Matrix([[0, 0, 0, 0, 0, 0], [3, 4, -3, -3, -5, 5], [3, -5, -6, 1, -1, 0], [-2, 4, -1, 2, -4, -2], [-4, -3, -1, 0, -1, -3], [-3, -1, -4, -3, -1, -4]])\n",
      "\n",
      "Kernel Basis (Basis of Null Space):[Matrix([\n",
      "[-18/17],\n",
      "[  7/17],\n",
      "[-16/17],\n",
      "[  9/17],\n",
      "[ 16/17],\n",
      "[     1]])]\n"
     ]
    }
   ],
   "source": [
    "\n",
    "# 计算 Q - I 矩阵\n",
    "Q -= Matrix.eye(6)\n",
    "print(Q)\n",
    "\n",
    "# 计算 Q - I 的核，即基础解系\n",
    "kernel_basis = Q.nullspace()\n",
    "print(f\"\\nKernel Basis (Basis of Null Space):{kernel_basis}\")"
   ]
  }
 ],
 "metadata": {
  "kernelspec": {
   "display_name": ".venv",
   "language": "python",
   "name": "python3"
  },
  "language_info": {
   "codemirror_mode": {
    "name": "ipython",
    "version": 3
   },
   "file_extension": ".py",
   "mimetype": "text/x-python",
   "name": "python",
   "nbconvert_exporter": "python",
   "pygments_lexer": "ipython3",
   "version": "3.11.9"
  }
 },
 "nbformat": 4,
 "nbformat_minor": 2
}

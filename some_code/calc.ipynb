{
 "cells": [
  {
   "cell_type": "code",
   "execution_count": 29,
   "metadata": {},
   "outputs": [
    {
     "name": "stdout",
     "output_type": "stream",
     "text": [
      "Quotient: x**49 + 3*x**48 + 8*x**47 + 24*x**46 + 74*x**45 + 228*x**44 + 698*x**43 + 2133*x**42 + 6523*x**41 + 19956*x**40 + 61052*x**39 + 186768*x**38 + 571344*x**37 + 1747812*x**36 + 5346793*x**35 + 16356567*x**34 + 50036940*x**33 + 153069708*x**32 + 468260770*x**31 + 1432472556*x**30 + 4382125870*x**29 + 13405511325*x**28 + 41009258727*x**27 + 125452827624*x**26 + 383777040888*x**25 + 1174025487600*x**24 + 3591501571616*x**23 + 10986885442392*x**22 + 33610357483393*x**21 + 102818595505275*x**20 + 314535886353136*x**19 + 962207500673952*x**18 + 2943521914423498*x**17 + 9004628684169012*x**16 + 27546367955490962*x**15 + 84268037489802453*x**14 + 257787239096515651*x**13 + 788605770592982940*x**12 + 2412450917245415028*x**11 + 7380011211104915424*x**10 + 22576445011458712112*x**9 + 69064376025400193436*x**8 + 211277197687984462665*x**7 + 646325310265177508463*x**6 + 1977195888911276686388*x**5 + 6048507649381277353044*x**4 + 18503196870780814228994*x**3 + 56603763156998726096124*x**2 + 173158510170378020867622*x + 529715127972327709097469\n",
      "Remainder: 1620469687147614654314895*x**5 + 95825248658766244935459*x**4 + 1913611986687576512219407*x**3 + 992586895326463045604211*x**2 + 1415986873746605106424785*x - 529715127972327709097469\n"
     ]
    }
   ],
   "source": [
    "from sympy import symbols, div, degree\n",
    "\n",
    "# 定义变量\n",
    "x = symbols('x')\n",
    "\n",
    "# 定义多项式 p 和 q\n",
    "p = x**55\n",
    "q = x**6 - 3 * x**5 + x**4 - 3 * x**3 - x**2 - 3 * x + 1\n",
    "\n",
    "# 伪除函数\n",
    "def pseudo_div(f, g):\n",
    "    d = g.as_poly().LC()  # g 的首项系数\n",
    "    n = degree(g)  # g 的次数\n",
    "    f_scaled = d**n * f  # 将 f 放大 d 的 n 次幂倍\n",
    "    quotient, remainder = div(f_scaled, g, domain='QQ')  # 求商和余数\n",
    "    return quotient, remainder\n",
    "\n",
    "# 调用伪除函数\n",
    "quotient, remainder = pseudo_div(p, q)\n",
    "\n",
    "print(\"Quotient:\", quotient)\n",
    "print(\"Remainder:\", remainder)\n"
   ]
  },
  {
   "cell_type": "code",
   "execution_count": 35,
   "metadata": {},
   "outputs": [
    {
     "data": {
      "text/plain": [
       "8"
      ]
     },
     "execution_count": 35,
     "metadata": {},
     "output_type": "execute_result"
    }
   ],
   "source": [
    "- 529715127972327709097469%11"
   ]
  },
  {
   "cell_type": "markdown",
   "metadata": {},
   "source": []
  }
 ],
 "metadata": {
  "kernelspec": {
   "display_name": ".venv",
   "language": "python",
   "name": "python3"
  },
  "language_info": {
   "codemirror_mode": {
    "name": "ipython",
    "version": 3
   },
   "file_extension": ".py",
   "mimetype": "text/x-python",
   "name": "python",
   "nbconvert_exporter": "python",
   "pygments_lexer": "ipython3",
   "version": "3.11.9"
  }
 },
 "nbformat": 4,
 "nbformat_minor": 2
}
